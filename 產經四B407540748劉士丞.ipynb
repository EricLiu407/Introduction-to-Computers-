{
  "nbformat": 4,
  "nbformat_minor": 0,
  "metadata": {
    "colab": {
      "name": "產經四B407540748劉士丞.ipynb",
      "provenance": [],
      "authorship_tag": "ABX9TyPNUfSwLWMxM6ezqGu64MyD",
      "include_colab_link": true
    },
    "kernelspec": {
      "name": "python3",
      "display_name": "Python 3"
    },
    "language_info": {
      "name": "python"
    }
  },
  "cells": [
    {
      "cell_type": "markdown",
      "metadata": {
        "id": "view-in-github",
        "colab_type": "text"
      },
      "source": [
        "<a href=\"https://colab.research.google.com/github/EricLiu407/Introduction-to-Computers-/blob/main/%E7%94%A2%E7%B6%93%E5%9B%9BB407540748%E5%8A%89%E5%A3%AB%E4%B8%9E.ipynb\" target=\"_parent\"><img src=\"https://colab.research.google.com/assets/colab-badge.svg\" alt=\"Open In Colab\"/></a>"
      ]
    },
    {
      "cell_type": "code",
      "execution_count": 2,
      "metadata": {
        "colab": {
          "base_uri": "https://localhost:8080/"
        },
        "id": "mfnd5172Ub7p",
        "outputId": "abb3f4d4-7319-43e8-a272-fac539767775"
      },
      "outputs": [
        {
          "output_type": "execute_result",
          "data": {
            "text/plain": [
              "True"
            ]
          },
          "metadata": {},
          "execution_count": 2
        }
      ],
      "source": [
        "(8+3>4+2)"
      ]
    },
    {
      "cell_type": "markdown",
      "source": [
        "關係運算子一"
      ],
      "metadata": {
        "id": "FEMkP9IUVrQI"
      }
    },
    {
      "cell_type": "code",
      "source": [
        "(3+5<8+5)"
      ],
      "metadata": {
        "colab": {
          "base_uri": "https://localhost:8080/"
        },
        "id": "v3asKVcSVLIE",
        "outputId": "c66e8990-dd35-4088-a67e-fdb8494b3933"
      },
      "execution_count": 3,
      "outputs": [
        {
          "output_type": "execute_result",
          "data": {
            "text/plain": [
              "True"
            ]
          },
          "metadata": {},
          "execution_count": 3
        }
      ]
    },
    {
      "cell_type": "markdown",
      "source": [
        "關係運算子二"
      ],
      "metadata": {
        "id": "iKIaLnFsVs51"
      }
    },
    {
      "cell_type": "code",
      "source": [
        "(1+9==3+7)"
      ],
      "metadata": {
        "colab": {
          "base_uri": "https://localhost:8080/"
        },
        "id": "Z7knoZ98Vdf_",
        "outputId": "c95474cb-67d8-4aee-c80f-bb6bf1536c19"
      },
      "execution_count": 4,
      "outputs": [
        {
          "output_type": "execute_result",
          "data": {
            "text/plain": [
              "True"
            ]
          },
          "metadata": {},
          "execution_count": 4
        }
      ]
    },
    {
      "cell_type": "markdown",
      "source": [
        "關係運算子三"
      ],
      "metadata": {
        "id": "bP4WsPEkVogs"
      }
    },
    {
      "cell_type": "code",
      "source": [
        "not(3>7)"
      ],
      "metadata": {
        "colab": {
          "base_uri": "https://localhost:8080/"
        },
        "id": "Ov-PrC7uVlBs",
        "outputId": "609f394e-ed57-46fd-b773-9b91bb7edfb4"
      },
      "execution_count": 9,
      "outputs": [
        {
          "output_type": "execute_result",
          "data": {
            "text/plain": [
              "True"
            ]
          },
          "metadata": {},
          "execution_count": 9
        }
      ]
    },
    {
      "cell_type": "markdown",
      "source": [
        "邏輯運算子一"
      ],
      "metadata": {
        "id": "7_8CVqmQXYm4"
      }
    },
    {
      "cell_type": "code",
      "source": [
        "(3<9)or(0==7)"
      ],
      "metadata": {
        "colab": {
          "base_uri": "https://localhost:8080/"
        },
        "id": "v0aRVG8bWkB4",
        "outputId": "958511b8-22c6-4f20-9c7d-0eb425a56021"
      },
      "execution_count": 10,
      "outputs": [
        {
          "output_type": "execute_result",
          "data": {
            "text/plain": [
              "True"
            ]
          },
          "metadata": {},
          "execution_count": 10
        }
      ]
    },
    {
      "cell_type": "markdown",
      "source": [
        "邏輯運算子二"
      ],
      "metadata": {
        "id": "A47ji33CX0Ey"
      }
    },
    {
      "cell_type": "code",
      "source": [
        "(8>=2)and(3==5)"
      ],
      "metadata": {
        "colab": {
          "base_uri": "https://localhost:8080/"
        },
        "id": "mzeCKUaaXowr",
        "outputId": "8d65d6a5-0234-465d-d5c1-c3a8a076095e"
      },
      "execution_count": 11,
      "outputs": [
        {
          "output_type": "execute_result",
          "data": {
            "text/plain": [
              "False"
            ]
          },
          "metadata": {},
          "execution_count": 11
        }
      ]
    },
    {
      "cell_type": "markdown",
      "source": [
        "邏輯運算子三"
      ],
      "metadata": {
        "id": "OeZS1nKNX3co"
      }
    },
    {
      "cell_type": "code",
      "source": [
        "i=4\n",
        "i+=5\n",
        "i"
      ],
      "metadata": {
        "colab": {
          "base_uri": "https://localhost:8080/"
        },
        "id": "KoWj4WswXyVW",
        "outputId": "f651c43f-26ef-4db9-a10d-c5f6ecb7b500"
      },
      "execution_count": 12,
      "outputs": [
        {
          "output_type": "execute_result",
          "data": {
            "text/plain": [
              "9"
            ]
          },
          "metadata": {},
          "execution_count": 12
        }
      ]
    },
    {
      "cell_type": "markdown",
      "source": [
        "複合指派運算子一"
      ],
      "metadata": {
        "id": "eQs2hAWBZBu2"
      }
    },
    {
      "cell_type": "code",
      "source": [
        "a=8\n",
        "a**=2\n",
        "a"
      ],
      "metadata": {
        "colab": {
          "base_uri": "https://localhost:8080/"
        },
        "id": "0Jym9vqNYVBY",
        "outputId": "839dd6b5-085c-4c79-b526-fd91c40c4bf1"
      },
      "execution_count": 13,
      "outputs": [
        {
          "output_type": "execute_result",
          "data": {
            "text/plain": [
              "64"
            ]
          },
          "metadata": {},
          "execution_count": 13
        }
      ]
    },
    {
      "cell_type": "markdown",
      "source": [
        "複合指派運算子二"
      ],
      "metadata": {
        "id": "nMQoIHF_ZGaC"
      }
    },
    {
      "cell_type": "code",
      "source": [
        "c=7\n",
        "c/=3\n",
        "c"
      ],
      "metadata": {
        "colab": {
          "base_uri": "https://localhost:8080/"
        },
        "id": "pDz2zV_nYfr1",
        "outputId": "ab6f16a5-510b-4c73-da8b-640ec74acc32"
      },
      "execution_count": 14,
      "outputs": [
        {
          "output_type": "execute_result",
          "data": {
            "text/plain": [
              "2.3333333333333335"
            ]
          },
          "metadata": {},
          "execution_count": 14
        }
      ]
    },
    {
      "cell_type": "markdown",
      "source": [
        "複合指派運算子三"
      ],
      "metadata": {
        "id": "1DBIUKIeZKQW"
      }
    },
    {
      "cell_type": "code",
      "source": [
        ""
      ],
      "metadata": {
        "id": "HdKRYCFWY08j"
      },
      "execution_count": null,
      "outputs": []
    }
  ]
}