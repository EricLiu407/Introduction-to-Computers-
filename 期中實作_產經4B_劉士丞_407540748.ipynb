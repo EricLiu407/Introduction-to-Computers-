{
  "nbformat": 4,
  "nbformat_minor": 0,
  "metadata": {
    "colab": {
      "name": "期中實作_產經4B_劉士丞_407540748.ipynb",
      "provenance": [],
      "authorship_tag": "ABX9TyORv7Be1ibrRp8xSykwNH4T",
      "include_colab_link": true
    },
    "kernelspec": {
      "name": "python3",
      "display_name": "Python 3"
    },
    "language_info": {
      "name": "python"
    }
  },
  "cells": [
    {
      "cell_type": "markdown",
      "metadata": {
        "id": "view-in-github",
        "colab_type": "text"
      },
      "source": [
        "<a href=\"https://colab.research.google.com/github/EricLiu407/Introduction-to-Computers-/blob/main/%E6%9C%9F%E4%B8%AD%E5%AF%A6%E4%BD%9C_%E7%94%A2%E7%B6%934B_%E5%8A%89%E5%A3%AB%E4%B8%9E_407540748.ipynb\" target=\"_parent\"><img src=\"https://colab.research.google.com/assets/colab-badge.svg\" alt=\"Open In Colab\"/></a>"
      ]
    },
    {
      "cell_type": "code",
      "execution_count": 3,
      "metadata": {
        "colab": {
          "base_uri": "https://localhost:8080/"
        },
        "id": "gGw8rgyOkM7p",
        "outputId": "2c49a6c2-87db-415a-a0b0-0c3669b61d57"
      },
      "outputs": [
        {
          "output_type": "stream",
          "name": "stdout",
          "text": [
            "班級:產經4B\n",
            "姓名:劉士丞\n",
            "學號:407540748\n"
          ]
        }
      ],
      "source": [
        "print(\"班級:產經4B\")\n",
        "print(\"姓名:劉士丞\")\n",
        "print(\"學號:407540748\")"
      ]
    },
    {
      "cell_type": "code",
      "source": [
        "test3=int(input('請輸入月份'))\n",
        "test4=int(input('請輸入日期'))\n",
        "test5=int(input('請輸入今天是星期幾'))"
      ],
      "metadata": {
        "colab": {
          "base_uri": "https://localhost:8080/"
        },
        "id": "AG-OOND6lrje",
        "outputId": "3dc29052-e1aa-4cfd-c09f-2406a0e7a72c"
      },
      "execution_count": 12,
      "outputs": [
        {
          "name": "stdout",
          "output_type": "stream",
          "text": [
            "請輸入月份5\n",
            "請輸入日期4\n",
            "請輸入今天是星期幾2\n"
          ]
        }
      ]
    },
    {
      "cell_type": "code",
      "source": [
        "print('今天是',test3,'月',test4,'號',sep='')"
      ],
      "metadata": {
        "colab": {
          "base_uri": "https://localhost:8080/"
        },
        "id": "EyvNGDslntZD",
        "outputId": "e7f1d616-786d-4b37-a7a9-82579239540e"
      },
      "execution_count": 18,
      "outputs": [
        {
          "output_type": "stream",
          "name": "stdout",
          "text": [
            "今天是5月4號\n"
          ]
        }
      ]
    },
    {
      "cell_type": "code",
      "source": [
        "上底=int(input('請輸入梯形上底長度:'))\n",
        "下底=int(input('請輸入梯形下底長度:'))\n",
        "高=int(input('請輸入梯形高度:'))\n",
        "面積=(上底+下底)*高/2\n",
        "print('梯形上底長度為:',上底,'公分','梯形下底長度為:',下底,'公分','梯形高度為:',高,'公分','梯形面積為:',面積,'公分',)"
      ],
      "metadata": {
        "colab": {
          "base_uri": "https://localhost:8080/"
        },
        "id": "qFZWvP8_p7hY",
        "outputId": "020a1805-87fd-47ae-ba4b-cb0e869389cc"
      },
      "execution_count": 26,
      "outputs": [
        {
          "output_type": "stream",
          "name": "stdout",
          "text": [
            "請輸入梯形上底長度:4\n",
            "請輸入梯形下底長度:5\n",
            "請輸入梯形高度:4\n",
            "梯形上底長度為: 4 公分 梯形下底長度為: 5 公分 梯形高度為: 4 公分 梯形面積為: 18.0 公分\n"
          ]
        }
      ]
    },
    {
      "cell_type": "code",
      "source": [
        "height=int(input(\"請輸入你的身高(cm):\"))\n",
        "weight=int(input(\"請輸入你的體重(kg):\"))\n",
        "bmi=weight/(height/100)**2\n",
        "print(\"身高\",height,\"公分\",\"體重\",weight,\"公斤\",\"bmi為\",bmi)\n"
      ],
      "metadata": {
        "colab": {
          "base_uri": "https://localhost:8080/"
        },
        "id": "NIebkehrtunC",
        "outputId": "33b11190-995c-4b79-f213-c68b13dd5c6b"
      },
      "execution_count": 33,
      "outputs": [
        {
          "output_type": "stream",
          "name": "stdout",
          "text": [
            "請輸入你的身高(cm):180\n",
            "請輸入你的體重(kg):60\n",
            "身高 180 公分 體重 60 公斤 bmi為 18.51851851851852\n"
          ]
        }
      ]
    },
    {
      "cell_type": "code",
      "source": [
        ""
      ],
      "metadata": {
        "id": "AaA35_BavQ-Q"
      },
      "execution_count": null,
      "outputs": []
    }
  ]
}