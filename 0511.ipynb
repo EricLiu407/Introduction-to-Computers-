{
  "nbformat": 4,
  "nbformat_minor": 0,
  "metadata": {
    "colab": {
      "name": "0511.ipynb",
      "provenance": [],
      "authorship_tag": "ABX9TyMlHPP8EXYWmm44m+hI/UIy",
      "include_colab_link": true
    },
    "kernelspec": {
      "name": "python3",
      "display_name": "Python 3"
    },
    "language_info": {
      "name": "python"
    }
  },
  "cells": [
    {
      "cell_type": "markdown",
      "metadata": {
        "id": "view-in-github",
        "colab_type": "text"
      },
      "source": [
        "<a href=\"https://colab.research.google.com/github/EricLiu407/Introduction-to-Computers-/blob/main/0511.ipynb\" target=\"_parent\"><img src=\"https://colab.research.google.com/assets/colab-badge.svg\" alt=\"Open In Colab\"/></a>"
      ]
    },
    {
      "cell_type": "code",
      "execution_count": 1,
      "metadata": {
        "colab": {
          "base_uri": "https://localhost:8080/"
        },
        "id": "BxOli1TkueVw",
        "outputId": "d5e9c50d-dda5-49a2-a722-d42c088816df"
      },
      "outputs": [
        {
          "output_type": "stream",
          "name": "stdout",
          "text": [
            "請輸入你的體溫37.5\n",
            "體溫過高!\n"
          ]
        }
      ],
      "source": [
        "temp=float(input(\"請輸入你的體溫\"))\n",
        "if temp>=37.5:\n",
        "    print(\"體溫過高!\")\n",
        "elif temp>=37 and temp<37.4:\n",
        "    print(\"溫度略高!\")\n",
        "elif temp>34 and temp<36.9:\n",
        "    print(\"體溫正常!\")\n",
        "else:\n",
        "    print(\"體溫異常,請重新測量!\")"
      ]
    },
    {
      "cell_type": "code",
      "source": [
        "money=int(input(\"請輸入購物金額\"))\n",
        "if(money>=10000):\n",
        "    if(money>=100000):\n",
        "        print(\"八折\",money*0.8,end=\"元\\n\")\n",
        "    elif(money>=50000):\n",
        "        print(\"八五折\",money*0.85,end=\"元\\n\")\n",
        "    elif(money>=30000):\n",
        "        print(\"九折\",money*0.9,end=\"元\\n\")\n",
        "    else:\n",
        "        print(\"九五折\",money*0.95,end=\"元\\n\")\n",
        "else:\n",
        "    print(\"沒打折\",money,end=\"元\\n\")"
      ],
      "metadata": {
        "colab": {
          "base_uri": "https://localhost:8080/"
        },
        "id": "Gv6DJ3av1bnW",
        "outputId": "85c5769f-3a35-49ca-fc31-0c55ddd186e1"
      },
      "execution_count": 6,
      "outputs": [
        {
          "output_type": "stream",
          "name": "stdout",
          "text": [
            "請輸入購物金額50000\n",
            "八五折 42500.0元\n"
          ]
        }
      ]
    },
    {
      "cell_type": "code",
      "source": [
        "score=int(input(\"請輸入成績\"))\n",
        "if score>=90:\n",
        "    print(\"A\")\n",
        "elif score>=80 and score<90:\n",
        "    print(\"B\")\n",
        "elif scroe>=70 and score<80:\n",
        "    print(\"C\")\n",
        "elif score>=60 and score<70:\n",
        "    print(\"D\")\n",
        "else:\n",
        "    print(\"E\")"
      ],
      "metadata": {
        "colab": {
          "base_uri": "https://localhost:8080/"
        },
        "id": "iq7NKU2q5gpM",
        "outputId": "47badd17-315e-483a-bb90-6455b0114533"
      },
      "execution_count": 4,
      "outputs": [
        {
          "output_type": "stream",
          "name": "stdout",
          "text": [
            "請輸入成績80\n",
            "B\n"
          ]
        }
      ]
    },
    {
      "cell_type": "code",
      "source": [
        "income=float(input(\"請輸入今年收入淨額\"))\n",
        "if (income>=300000):\n",
        "    if(income>=2000000):\n",
        "        print(\"付稅金額:\",income*0.3,end=\"元\\n\")\n",
        "    elif(income>=1000000):\n",
        "        print(\"付稅金額:\",income*0.21,end=\"元\\n\")\n",
        "    elif(income>=600000):\n",
        "        print(\"付稅金額:\",income*0.13,end=\"元\\n\")\n",
        "    else:\n",
        "        print(\"付稅金額:\",income*0.06,end=\"元\\n\")\n",
        "else:\n",
        "    print(\"不用繳稅\")"
      ],
      "metadata": {
        "colab": {
          "base_uri": "https://localhost:8080/"
        },
        "id": "ymcXieI89SGm",
        "outputId": "2626ab63-164b-4ae1-e5a7-b2b5bdb65cc3"
      },
      "execution_count": 9,
      "outputs": [
        {
          "output_type": "stream",
          "name": "stdout",
          "text": [
            "請輸入今年收入淨額2000000\n",
            "付稅金額: 600000.0元\n"
          ]
        }
      ]
    },
    {
      "cell_type": "code",
      "source": [
        ""
      ],
      "metadata": {
        "id": "l6v8K4TNGwjS"
      },
      "execution_count": null,
      "outputs": []
    }
  ]
}